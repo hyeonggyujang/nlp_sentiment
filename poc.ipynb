{
 "cells": [
  {
   "cell_type": "markdown",
   "id": "792f8d64",
   "metadata": {},
   "source": [
    "## NLP Sentiment Analysis\n",
    "\n",
    "### Introduction\n",
    "The purpose of this notebook is to create a proof-of-concept for sentiment analysis using existing NLP analysis library. The target corpus come from news articles that are published on the web, New York Times. Through this POC, it's desired to provide an example that qualitatively assesses the overall sentiment of article and how well the assessment aligns with human interpretation. A stretch goal of this POC includes automatically generating a summary of the article, which also gets qualitatively evaluated by human reader.\n",
    "\n",
    "### Method\n",
    "For the NLP analytic library, the following library is used. () \n",
    "The target corpus comes from NYT website, and the total number of articles is 3. Each article has a different level sentiment.\n",
    "The human reader or interpretator is the author of this POC.\n",
    "\n",
    "### Code\n",
    "The below block of code loads essential libraries for this project."
   ]
  },
  {
   "cell_type": "code",
   "execution_count": 1,
   "id": "39fdc4ff",
   "metadata": {},
   "outputs": [],
   "source": [
    "from vaderSentiment.vaderSentiment import SentimentIntensityAnalyzer"
   ]
  },
  {
   "cell_type": "code",
   "execution_count": 5,
   "id": "f1065ea9",
   "metadata": {},
   "outputs": [
    {
     "name": "stdout",
     "output_type": "stream",
     "text": [
      "['The U.S. labor market has been less resilient than was initially believed. On Wednesday, the Labor Department said that the economy had added 818,000 fewer jobs than it had previously reported for the 12 months that ended in March.', 'The number means employers had overstated job growth by about 28 percent per month, especially in industries like hospitality and professional services. The downward revision adds to growing evidence of a weakening job market: The unemployment rate, though still relatively low, ticked up to 4.3 percent last month.', 'This adjusted number is an initial estimate of an annual revision, in which monthly employment figures from the Labor Department are reconciled with more accurate state unemployment reports. This year’s revision was unusually large: Over the previous decade, annual updates added or subtracted around 173,000 jobs, on average.', '“We’ve known that things on net were probably moving gradually in the wrong direction,” said Guy Berger, director of economic research at Burning Glass Institute, a labor market research and data firm.', 'The Federal Reserve, which is poised to cut interest rates when it meets next month, is attuned to such signs of economic slowdown. Fed officials may also be taking note of a shift in consumer behavior, as Americans hurt by years of high inflation have turned to bargain hunting.', 'Still, some indicators point to a solid economy: Inflation continues to cool while gross domestic product outpaces forecasts. And retail sales have been robust.']\n"
     ]
    }
   ],
   "source": [
    "# Spins up sentiment analyzer\n",
    "analyzer = SentimentIntensityAnalyzer()\n",
    "article_1 = ''\n",
    "with open('article_1.txt', 'r') as f:\n",
    "    for line in f:\n",
    "        article_1 += line\n",
    "article_1_paragraphs = article_1.split('\\n\\n')\n",
    "print(article_1_paragraphs)"
   ]
  },
  {
   "cell_type": "code",
   "execution_count": 6,
   "id": "db02862f",
   "metadata": {},
   "outputs": [],
   "source": [
    "def analyzeArticle1():\n",
    "    # - VADER works best when analysis is done at the sentence level\n",
    "    # - (but it can work on single words or entire novels).\n",
    "    # - One reason you might analyze single words is because they're annotation to an image or video.\n",
    "    # - Here are some positive examples\n",
    "    paragraphSentiments = 0.0\n",
    "    for paragraph in article_1_paragraphs:\n",
    "        vs = analyzer.polarity_scores(paragraph)\n",
    "        print(\"{:-<15} {}\".format(paragraph, str(vs['compound'])))\n",
    "        paragraphSentiments += vs[\"compound\"]\n",
    "    print(\"AVERAGE SENTIMENT OF PARAGRAPHS: \\t\" + str(round(paragraphSentiments / len(article_1_paragraphs), 4)))\n",
    "    print(\"\\t\")"
   ]
  },
  {
   "cell_type": "code",
   "execution_count": 7,
   "id": "6ed3ab85",
   "metadata": {},
   "outputs": [
    {
     "name": "stdout",
     "output_type": "stream",
     "text": [
      "The U.S. labor market has been less resilient than was initially believed. On Wednesday, the Labor Department said that the economy had added 818,000 fewer jobs than it had previously reported for the 12 months that ended in March. 0.0\n",
      "The number means employers had overstated job growth by about 28 percent per month, especially in industries like hospitality and professional services. The downward revision adds to growing evidence of a weakening job market: The unemployment rate, though still relatively low, ticked up to 4.3 percent last month. -0.4091\n",
      "This adjusted number is an initial estimate of an annual revision, in which monthly employment figures from the Labor Department are reconciled with more accurate state unemployment reports. This year’s revision was unusually large: Over the previous decade, annual updates added or subtracted around 173,000 jobs, on average. -0.4336\n",
      "“We’ve known that things on net were probably moving gradually in the wrong direction,” said Guy Berger, director of economic research at Burning Glass Institute, a labor market research and data firm. -0.4767\n",
      "The Federal Reserve, which is poised to cut interest rates when it meets next month, is attuned to such signs of economic slowdown. Fed officials may also be taking note of a shift in consumer behavior, as Americans hurt by years of high inflation have turned to bargain hunting. 0.0772\n",
      "Still, some indicators point to a solid economy: Inflation continues to cool while gross domestic product outpaces forecasts. And retail sales have been robust. 0.296\n",
      "AVERAGE SENTIMENT OF PARAGRAPHS: \t-0.1577\n",
      "\t\n"
     ]
    }
   ],
   "source": [
    "analyzeArticle1()"
   ]
  }
 ],
 "metadata": {
  "kernelspec": {
   "display_name": "Python 3",
   "language": "python",
   "name": "python3"
  },
  "language_info": {
   "codemirror_mode": {
    "name": "ipython",
    "version": 3
   },
   "file_extension": ".py",
   "mimetype": "text/x-python",
   "name": "python",
   "nbconvert_exporter": "python",
   "pygments_lexer": "ipython3",
   "version": "3.10.11"
  }
 },
 "nbformat": 4,
 "nbformat_minor": 5
}
