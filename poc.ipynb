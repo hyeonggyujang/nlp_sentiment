{
 "cells": [
  {
   "cell_type": "markdown",
   "id": "792f8d64",
   "metadata": {},
   "source": [
    "## NLP Sentiment Analysis\n",
    "\n",
    "### Introduction\n",
    "The purpose of this notebook is to create a proof-of-concept for sentiment analysis using existing NLP analysis library. The target corpus come from news articles that are published on the web, New York Times. Through this POC, it's desired to provide an example that qualitatively assesses the overall sentiment of article and how well the assessment aligns with human interpretation. A stretch goal of this POC includes automatically generating a summary of the article, which also gets qualitatively evaluated by human reader.\n",
    "\n",
    "### Method\n",
    "For the NLP analytic library, the following library is used. () \n",
    "The target corpus comes from NYT website, and the total number of articles is 3. Each article has a different level sentiment.\n",
    "The human reader or interpretator is the author of this POC.\n",
    "\n",
    "### Code\n",
    "The below block of code loads essential libraries for this project."
   ]
  },
  {
   "cell_type": "code",
   "execution_count": 38,
   "id": "39fdc4ff",
   "metadata": {},
   "outputs": [],
   "source": [
    "from vaderSentiment.vaderSentiment import SentimentIntensityAnalyzer"
   ]
  },
  {
   "cell_type": "markdown",
   "id": "56837a72",
   "metadata": {},
   "source": [
    "The setiment analyzing tool is imported from VADER library. Each article is read and stored as a list of strings--each element of the list representing a paragraph of that article--and mapped to a specific key."
   ]
  },
  {
   "cell_type": "code",
   "execution_count": 39,
   "id": "f1065ea9",
   "metadata": {},
   "outputs": [
    {
     "name": "stdout",
     "output_type": "stream",
     "text": [
      "['The U.S. labor market has been less resilient than was initially believed. On Wednesday, the Labor Department said that the economy had added 818,000 fewer jobs than it had previously reported for the 12 months that ended in March.', 'The number means employers had overstated job growth by about 28 percent per month, especially in industries like hospitality and professional services. The downward revision adds to growing evidence of a weakening job market: The unemployment rate, though still relatively low, ticked up to 4.3 percent last month.', 'This adjusted number is an initial estimate of an annual revision, in which monthly employment figures from the Labor Department are reconciled with more accurate state unemployment reports. This year’s revision was unusually large: Over the previous decade, annual updates added or subtracted around 173,000 jobs, on average.', '“We’ve known that things on net were probably moving gradually in the wrong direction,” said Guy Berger, director of economic research at Burning Glass Institute, a labor market research and data firm.', 'The Federal Reserve, which is poised to cut interest rates when it meets next month, is attuned to such signs of economic slowdown. Fed officials may also be taking note of a shift in consumer behavior, as Americans hurt by years of high inflation have turned to bargain hunting.', 'Still, some indicators point to a solid economy: Inflation continues to cool while gross domestic product outpaces forecasts. And retail sales have been robust.']\n",
      "['Speaking in his most closely watched speech of the year, Jerome H. Powell, the chair of the Federal Reserve, clearly signaled on Friday that the central bank was poised to cut interest rates in September.', 'And while Mr. Powell stopped short of giving a clear hint at just how large that move might be, he forcefully underscored that the central bank stands prepared to adjust policy to protect the job market from weakening further and to keep the economy on a path for a soft landing.', '“The time has come for policy to adjust,” Mr. Powell said during the Kansas City Fed’s annual conference at Jackson Hole in Wyoming. “The direction of travel is clear, and the timing and pace of rate cuts will depend on incoming data, the evolving outlook and the balance of risks.”', 'He then added: “We will do everything we can to support a strong labor market as we make further progress toward price stability.”', 'Mr. Powell’s speech was his firmest declaration yet that the Fed is turning a corner in its fight against inflation. After more than a year of holding interest rates at 5.3 percent, the highest level in more than two decades, officials finally have enough confidence to change their stance by cutting rates at their Sept. 17-18 meeting.', 'Policymakers have been using those high rates to try to cool the economy and, by doing so, wrestle down rapid inflation. But as price increases slow substantially and the job market shows signs of wobbling, officials no longer need to hit the brakes quite so hard.', 'The big question now is just how big a September rate cut will be, and how rapidly the Fed will lower borrowing costs in the months that follow. Policymakers will meet again in November and December.', 'Mr. Powell did not provide a clear outline for the path ahead, but by focusing on risks to the labor market, he did clearly hint that central bankers are willing to cut interest rates quickly rather than gradually if the job market appears to be at risk.', '“We do not seek or welcome further cooling in labor market conditions,” he said, later adding that a strong labor market could be maintained with “an appropriate dialing back of policy restraint.”', 'The unemployment rate jumped in July, and Fed officials will receive August jobs data on Sept. 6, just ahead of their next meeting. Mr. Powell was clear that central bankers are keenly focused on the possibility of a job market slowdown.', '“The upside risks to inflation have diminished,” Mr. Powell said in his speech. “And the downside risks to employment have increased.”', 'Markets rallied on Friday, with the S&P 500 index posting a gain that pushed it closer to a fresh record high. Government bond yields fell as investors priced in the possibility of steeper Fed rate cuts in the future.', 'The Fed’s looming decision about how much to cut interest rates — and how quickly to proceed with reductions after September — comes at a fraught political moment. The central bank is poised to begin lowering interest rates just weeks before the presidential election in November.', 'That could plunge Fed officials, who set policy independently from the White House and who fiercely defend that insulation, into the political spotlight. Already, former President Donald J. Trump, the Republican candidate, is talking about the Fed regularly from the campaign trail.', 'Mr. Trump has implied and said that it would be political for the Fed to cut interest rates in the run-up to the election, suggesting that doing so would help incumbent Democrats. Mr. Trump himself regularly pushed for lower interest rates as president, and he has recently asserted that presidents should have a say in Fed policy before backpedaling from that assertion.', 'Fed officials insist that they do not pay attention to politics when they are setting interest rates.', 'Instead, they focus on what is happening in the economy.', 'In recent months, data have suggested that they are making progress toward their big policy goal: Price increases seem to be coming under control. The Consumer Price Index inflation measure has cooled to 2.9 percent as of last month, down sharply from 9.1 percent at its peak in the summer of 2022.', 'The July reading of the Fed’s preferred inflation measure, the Personal Consumption Expenditures index, will be released next Friday. That, too, has been falling back toward the central bank’s 2 percent inflation goal.', 'Some economists even think the Fed might be on the verge of nailing a “soft landing,” in which inflation and the economy cool down sustainably without major pain. Mr. Powell voiced optimism about the central bank’s chances during his speech on Friday.', '“While the task is not complete, we have made a good deal of progress toward that outcome,” he said.', 'There’s plenty of reason for hope. Even as inflation moderates, growth and consumer spending have remained solid. While shoppers have become pickier and more sensitive to prices, they are still opening their wallets.', 'But at the same time, serious risks have begun to appear. The job market is a pivotal barometer of the strength of the overall economy, so its recent weakness was concerning, especially given that survey data also suggests that labor conditions are deteriorating.', 'While the weakness in the July report may have been driven by a hurricane and other weather events, it has left officials on edge, warily awaiting the next report on Sept. 6.', 'The unemployment rate is “still low by historical standards, but almost a full percentage point above its level in early 2023,” Mr. Powell said on Friday, noting also that the increase was mainly coming as hiring slowed and new applicants took time to land work — not as people lost jobs. “Even so, the cooling in labor market conditions is unmistakable.”', 'Even as he voiced caution, Mr. Powell also used his speech to review how far the Fed has come in its inflation fight. He noted that the Fed thought that inflation would fade quickly in 2021, when it first took off. Back then, Fed officials often called inflation “transitory,” something they have been widely criticized for in the time since.', '“The good ship Transitory was a crowded one, with most mainstream analysts and advanced-economy central bankers on board,” Mr. Powell said, defending the central bank’s stance.', 'When price increases did not fade, the Fed reacted by jerking rates higher in 2022, and Mr. Powell warned that economic pain might result. Many economists thought a recession was all but assured.', 'With inflation now fading in earnest, though, a more benign possibility — one in which the economy simply settles back into a normal pattern — has come into view.', '“High inflation triggered stress and a sense of unfairness that linger today,” Mr. Powell acknowledged. But he later added that Fed officials “did not flinch from carrying out our responsibilities, and our actions forcefully demonstrated our commitment to restoring price stability.”']\n",
      "['The U.S. economy added far fewer jobs in 2023 and early 2024 than previously reported, a sign that cracks in the labor market are more severe — and began forming earlier — than initially believed.', 'On Wednesday, the Labor Department said monthly payroll figures overstated job growth by roughly 818,000 in the 12 months that ended in March. That suggests employers added about 174,000 jobs per month during that period, down from the previously reported pace of about 242,000 jobs — a downward revision of about 28 percent.', 'The revisions, which are preliminary, are part of an annual process in which monthly estimates, based on surveys, are reconciled with more accurate but less timely records from state unemployment offices. The new figures, once they’re made final, will be incorporated into official government employment statistics early next year.', 'The updated numbers are the latest sign of vulnerability in the job market, which until recently had appeared rock solid despite months of high interest rates and economists’ warnings of an impending recession. More recent data, which wasn’t affected by the revisions, suggests job growth slowed further in the spring and summer, and the unemployment rate, though still relatively low at 4.3 percent, has been gradually rising.', 'Federal Reserve officials are paying close attention to the signs of erosion as they weigh when and how much to begin lowering interest rates. In a speech in Alaska on Tuesday, Michelle W. Bowman, a Fed governor, highlighted “risks that the labor market has not been as strong as the payroll data have been indicating,” although she also said the increase in the unemployment rate could be overstating the extent of the slowdown.', 'This year’s revision was unusually large. Over the previous decade, the annual updates had added or subtracted an average of about 173,000 jobs. Still, substantial updates are hardly without precedent. Job growth for the year ending March 2019, for example, was revised down by 489,000, or about 20 percent.', 'Even accounting for the new estimates, the big picture remains relatively unchanged: Job growth is slowing, but not collapsing. The unemployment rate is rising, but layoffs remain low.', 'The revisions to some extent help bring the job growth numbers in line with other data showing a more significant cooling in the labor market. Job openings, hiring and employee turnover have all slowed significantly over the past two years. The robust monthly payroll figures were something of an outlier.', '“We’ve known that things on net were probably moving gradually in the wrong direction,” said Guy Berger, director of economic research for the Burning Glass Institute, a labor market research and data firm. “This just largely confirms what a holistic view of the labor market data was saying before today.”', 'Some economists have also argued that the labor market is in better shape than recent data suggests. The unexpected slowdown in hiring and uptick in unemployment in July, for example, may have happened in part because of Hurricane Beryl, which temporarily closed businesses in Texas. And government data may not fully reflect the effect of increased immigration, which has provided employers with a supply of needed workers.', 'The monthly payroll figures are based on a survey of roughly 119,000 businesses and other employers. The large size of the survey makes it reliable, but not perfect. Government economists must make assumptions to account for businesses that open or close or that fail to report data. Those assumptions can be less reliable during periods of rapid changes in the labor market. Adding to the challenge: The response rate to all government surveys has been falling.', 'Forecasters had expected a large revision this year. Quarterly data, which is based on the same state records used to calculate the annual updates, had suggested that the monthly payroll estimates were overstating job growth. A few economists had predicted an even bigger reduction of as much as one million jobs.', 'Market reaction to the revisions was muted. The S&P 500 index was roughly flat in morning trading and ended the trading day up slightly.', 'The new numbers show that hiring was slower nearly across the board than originally reported. There were large downward revisions in white-collar sectors like professional services and information, as well as in the hospitality and retail industries. The transportation and warehousing sector, which includes many businesses involved in e-commerce, was one of the few in which job growth was revised up instead of down.']\n"
     ]
    }
   ],
   "source": [
    "# Spins up sentiment analyzer\n",
    "analyzer = SentimentIntensityAnalyzer()\n",
    "articles = ['article_1', 'article_2', 'article_3']\n",
    "article_map = {\n",
    "    'article_1': '',\n",
    "    'article_2': '',\n",
    "    'article_3': '',\n",
    "}\n",
    "for article in articles:\n",
    "    with open(article + '.txt', 'r') as f:\n",
    "        for line in f:\n",
    "            article_map[article] += line\n",
    "    article_map[article] = article_map[article].split('\\n\\n')\n",
    "    print(article_map[article])"
   ]
  },
  {
   "cell_type": "markdown",
   "id": "8946a7e0",
   "metadata": {},
   "source": [
    "The below blocks of codes breaks down each article into either paragraphs and sentences for sentiment analysis. The VADER sentiment analyzer works better at the sentence level, as the New York Times articles in Economics departments tend to have minimal sentimental bias, and the results from the sentence-level analyses yielded more neutral sentiments."
   ]
  },
  {
   "cell_type": "code",
   "execution_count": 40,
   "id": "db02862f",
   "metadata": {},
   "outputs": [],
   "source": [
    "def analyzeArticlesByParagraph():\n",
    "    for article in article_map.keys():\n",
    "        paragraphSentiments = 0.0\n",
    "        for paragraph in article_map[article]:\n",
    "            vs = analyzer.polarity_scores(paragraph)\n",
    "            paragraphSentiments += vs[\"compound\"]\n",
    "        print(\"AVERAGE SENTIMENT OF PARAGRAPHS: \\t\" + str(round(paragraphSentiments / len(article), 4)))\n",
    "        print(\"\\t\")\n",
    "\n",
    "def analyzeArticlesBySentence():\n",
    "    for article in article_map.keys():\n",
    "        print(\"ARTICLE: {}\".format(article))\n",
    "        averageSetimentScore = 0.0\n",
    "        setimentScoreSum = 0.0\n",
    "        for paragraph in article_map[article]:\n",
    "            sentenceSentiments = 0.0\n",
    "            sentences = paragraph.split(\".\")\n",
    "            for sentence in sentences:\n",
    "                vaderScore = analyzer.polarity_scores(sentence)\n",
    "                sentenceSentiments += vaderScore[\"compound\"]\n",
    "            setimentScoreSum += round(sentenceSentiments / len(sentences), 4)\n",
    "\n",
    "        print(\"AVERAGE SENTIMENT OF ARTICLE: \\t\" + str(round(setimentScoreSum / len(article), 4)))\n",
    "        print(\"\\t\")\n",
    "\n"
   ]
  },
  {
   "cell_type": "code",
   "execution_count": 41,
   "id": "6ed3ab85",
   "metadata": {},
   "outputs": [
    {
     "name": "stdout",
     "output_type": "stream",
     "text": [
      "BY PARAGRAPHS:\n",
      "AVERAGE SENTIMENT OF PARAGRAPHS: \t-0.1051\n",
      "\t\n",
      "AVERAGE SENTIMENT OF PARAGRAPHS: \t0.7995\n",
      "\t\n",
      "AVERAGE SENTIMENT OF PARAGRAPHS: \t-0.0746\n",
      "\t\n",
      "BY SENTENCES:\n",
      "ARTICLE: article_1\n",
      "AVERAGE SENTIMENT OF ARTICLE: \t-0.0332\n",
      "\t\n",
      "ARTICLE: article_2\n",
      "AVERAGE SENTIMENT OF ARTICLE: \t0.2669\n",
      "\t\n",
      "ARTICLE: article_3\n",
      "AVERAGE SENTIMENT OF ARTICLE: \t-0.0139\n",
      "\t\n"
     ]
    }
   ],
   "source": [
    "print(\"BY PARAGRAPHS:\")\n",
    "analyzeArticlesByParagraph()\n",
    "print(\"BY SENTENCES:\")\n",
    "analyzeArticlesBySentence()"
   ]
  },
  {
   "cell_type": "markdown",
   "id": "168c3f62",
   "metadata": {},
   "source": [
    "## Text Summarization\n",
    "For summarizing text, a natural language processor tool, NLTK, is used. The preprocesses for the analysis includes taking stop words into account and weighing each word by its appearence frequency within the corpus. The articles are summarized and outputed to the current working directory."
   ]
  },
  {
   "cell_type": "code",
   "execution_count": 42,
   "id": "b766f2fe",
   "metadata": {},
   "outputs": [],
   "source": [
    "import nltk               \n",
    "from nltk.corpus import stopwords                       \n",
    "from nltk.tokenize import word_tokenize, sent_tokenize "
   ]
  },
  {
   "cell_type": "code",
   "execution_count": 43,
   "id": "4e45cc98",
   "metadata": {},
   "outputs": [],
   "source": [
    "def summarize(txt):\n",
    "    stopWords = set(stopwords.words(\"english\")) \n",
    "    words = word_tokenize(txt)\n",
    "    freqTable = dict()                 \n",
    "    for word in words:               \n",
    "        word = word.lower()                 \n",
    "        if word in stopWords:                 \n",
    "            continue                  \n",
    "        if word in freqTable:                       \n",
    "            freqTable[word] += 1            \n",
    "        else:          \n",
    "            freqTable[word] = 1  \n",
    "    sentences = sent_tokenize(txt)                 \n",
    "    sentenceValue = dict()\n",
    "    for sentence in sentences:               \n",
    "        for word, freq in freqTable.items():        \n",
    "            if word in sentence.lower():                   \n",
    "                if sentence in sentenceValue:                                 \n",
    "                    sentenceValue[sentence] += freq                       \n",
    "                else:                       \n",
    "                    sentenceValue[sentence] = freq                    \n",
    "\n",
    "    sumValues = 0                        \n",
    "    for sentence in sentenceValue:              \n",
    "        sumValues += sentenceValue[sentence]\n",
    "\n",
    "    average = int(sumValues / len(sentenceValue))\n",
    "    summary = ''\n",
    "    for sentence in sentences:               \n",
    "        if (sentence in sentenceValue) and (sentenceValue[sentence] > (1.2 * average)): # Adjust summary length here by increasing/decreasing the number             \n",
    "            summary += \" \" + sentence\n",
    "    return summary\n",
    "\n",
    "\n"
   ]
  },
  {
   "cell_type": "code",
   "execution_count": 44,
   "id": "ec33c478",
   "metadata": {},
   "outputs": [],
   "source": [
    "for article in article_map.keys():\n",
    "    out_file = open('{0}_summary.txt'.format(article), 'w')\n",
    "    out_file.write(summarize(' '.join(article_map[article])))\n",
    "    out_file.close()"
   ]
  }
 ],
 "metadata": {
  "kernelspec": {
   "display_name": "Python 3",
   "language": "python",
   "name": "python3"
  },
  "language_info": {
   "codemirror_mode": {
    "name": "ipython",
    "version": 3
   },
   "file_extension": ".py",
   "mimetype": "text/x-python",
   "name": "python",
   "nbconvert_exporter": "python",
   "pygments_lexer": "ipython3",
   "version": "3.10.11"
  }
 },
 "nbformat": 4,
 "nbformat_minor": 5
}
